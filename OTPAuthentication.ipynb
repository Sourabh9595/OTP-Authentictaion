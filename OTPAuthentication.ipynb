{
 "cells": [
  {
   "cell_type": "markdown",
   "id": "20eac938",
   "metadata": {},
   "source": [
    "We are building the OTP Authentication system using smtplib library.\n",
    "Bascially this will create an OTP using local host and verfiy."
   ]
  },
  {
   "cell_type": "code",
   "execution_count": 3,
   "id": "f822a987",
   "metadata": {},
   "outputs": [],
   "source": [
    "import os\n",
    "import math\n",
    "import random\n",
    "import smtplib"
   ]
  },
  {
   "cell_type": "code",
   "execution_count": 4,
   "id": "3c4726e8",
   "metadata": {},
   "outputs": [
    {
     "name": "stdout",
     "output_type": "stream",
     "text": [
      "230508 is your OTP\n"
     ]
    }
   ],
   "source": [
    "digits=\"0123456789\"\n",
    "OTP=\"\"\n",
    "for i in range(6):\n",
    "    OTP+=digits[math.floor(random.random()*10)]\n",
    "otp = OTP + \" is your OTP\"\n",
    "msg= otp\n",
    "print(msg)"
   ]
  },
  {
   "cell_type": "code",
   "execution_count": 6,
   "id": "67476f22",
   "metadata": {},
   "outputs": [
    {
     "name": "stdout",
     "output_type": "stream",
     "text": [
      "Enter your email: sourabhsk1627@gmail.com\n",
      "Enter Your OTP >>: 230508\n",
      "Verified\n"
     ]
    }
   ],
   "source": [
    "\n",
    "s = smtplib.SMTP('smtp.gmail.com', 587)\n",
    "s.starttls()\n",
    "#Please create an app password using your google acc and then enter your mail id and password here.\n",
    "s.login(\"Enter your mail ID\", \"Enter your app password\")\n",
    "#Enter the receivers mail id\n",
    "emailid = input(\"Enter your email: \")\n",
    "s.sendmail('&&&&&&&&&&&',emailid,msg)\n",
    "a = input(\"Enter Your OTP >>: \")\n",
    "if a == OTP:\n",
    "    print(\"Verified\")\n",
    "else:\n",
    "    print(\"Please Check your OTP again\")"
   ]
  },
  {
   "cell_type": "code",
   "execution_count": null,
   "id": "12a5c2a3",
   "metadata": {},
   "outputs": [],
   "source": []
  },
  {
   "cell_type": "code",
   "execution_count": null,
   "id": "e5fdf4c7",
   "metadata": {},
   "outputs": [],
   "source": []
  }
 ],
 "metadata": {
  "kernelspec": {
   "display_name": "Python 3",
   "language": "python",
   "name": "python3"
  },
  "language_info": {
   "codemirror_mode": {
    "name": "ipython",
    "version": 3
   },
   "file_extension": ".py",
   "mimetype": "text/x-python",
   "name": "python",
   "nbconvert_exporter": "python",
   "pygments_lexer": "ipython3",
   "version": "3.7.5"
  }
 },
 "nbformat": 4,
 "nbformat_minor": 5
}
